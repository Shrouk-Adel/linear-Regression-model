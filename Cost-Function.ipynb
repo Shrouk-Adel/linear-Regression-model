{
 "cells": [
  {
   "cell_type": "code",
   "execution_count": 1,
   "id": "b6f0b69a",
   "metadata": {},
   "outputs": [],
   "source": [
    "import numpy as np\n",
    "import matplotlib.pyplot as plt"
   ]
  },
  {
   "cell_type": "code",
   "execution_count": 2,
   "id": "50730992",
   "metadata": {},
   "outputs": [],
   "source": [
    "# training data set\n",
    "x_train=np.array([1,2])\n",
    "y_train=np.array([300,500])"
   ]
  },
  {
   "cell_type": "code",
   "execution_count": 3,
   "id": "e3cba8d7",
   "metadata": {},
   "outputs": [],
   "source": [
    "def comput_cost_function(x,y,w,b):\n",
    "    \n",
    "    m=len(x_train)\n",
    "    f_wb=np.zeros(m)\n",
    "    cost_sum=0\n",
    "    \n",
    "    for i in range(m):\n",
    "        f_wb[i]=w* x[i] +b\n",
    "        cost_sum +=(f_wb[i]-y[i])**2\n",
    "        \n",
    "    total_cost=1/(2*m) *cost_sum\n",
    "    \n",
    "    return total_cost\n",
    "    \n",
    "    \n",
    "    \n",
    "    \n",
    "    "
   ]
  },
  {
   "cell_type": "code",
   "execution_count": null,
   "id": "6ca726d7",
   "metadata": {},
   "outputs": [],
   "source": []
  }
 ],
 "metadata": {
  "kernelspec": {
   "display_name": "Python 3 (ipykernel)",
   "language": "python",
   "name": "python3"
  },
  "language_info": {
   "codemirror_mode": {
    "name": "ipython",
    "version": 3
   },
   "file_extension": ".py",
   "mimetype": "text/x-python",
   "name": "python",
   "nbconvert_exporter": "python",
   "pygments_lexer": "ipython3",
   "version": "3.9.13"
  }
 },
 "nbformat": 4,
 "nbformat_minor": 5
}
