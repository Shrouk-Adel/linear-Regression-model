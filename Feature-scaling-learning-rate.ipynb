{
 "cells": [
  {
   "cell_type": "markdown",
   "id": "244e6741",
   "metadata": {},
   "source": [
    "### import library"
   ]
  },
  {
   "cell_type": "code",
   "execution_count": 60,
   "id": "69c2a5c1",
   "metadata": {},
   "outputs": [],
   "source": [
    "import numpy as np\n",
    "import pandas as pd\n",
    "import matplotlib.pyplot as plt"
   ]
  },
  {
   "cell_type": "code",
   "execution_count": 61,
   "id": "d68f7ded",
   "metadata": {},
   "outputs": [
    {
     "name": "stdout",
     "output_type": "stream",
     "text": [
      "      price   area  bedrooms  bathrooms  stories mainroad guestroom basement  \\\n",
      "0  13300000   7420         4          2        3      yes        no       no   \n",
      "1  12250000   8960         4          4        4      yes        no       no   \n",
      "2  12250000   9960         3          2        2      yes        no      yes   \n",
      "3  12215000   7500         4          2        2      yes        no      yes   \n",
      "4  11410000   7420         4          1        2      yes       yes      yes   \n",
      "5  10850000   7500         3          3        1      yes        no      yes   \n",
      "6  10150000   8580         4          3        4      yes        no       no   \n",
      "7  10150000  16200         5          3        2      yes        no       no   \n",
      "8   9870000   8100         4          1        2      yes       yes      yes   \n",
      "9   9800000   5750         3          2        4      yes       yes       no   \n",
      "\n",
      "  hotwaterheating airconditioning  parking prefarea furnishingstatus  \n",
      "0              no             yes        2      yes        furnished  \n",
      "1              no             yes        3       no        furnished  \n",
      "2              no              no        2      yes   semi-furnished  \n",
      "3              no             yes        3      yes        furnished  \n",
      "4              no             yes        2       no        furnished  \n",
      "5              no             yes        2      yes   semi-furnished  \n",
      "6              no             yes        2      yes   semi-furnished  \n",
      "7              no              no        0       no      unfurnished  \n",
      "8              no             yes        2      yes        furnished  \n",
      "9              no             yes        1      yes      unfurnished  \n"
     ]
    }
   ],
   "source": [
    "data = pd.read_csv('Housing.csv')\n",
    "print(data.head(10))"
   ]
  },
  {
   "cell_type": "markdown",
   "id": "190f6302",
   "metadata": {},
   "source": [
    "### Check for null & missing values"
   ]
  },
  {
   "cell_type": "code",
   "execution_count": 62,
   "id": "a313f1fc",
   "metadata": {},
   "outputs": [
    {
     "name": "stdout",
     "output_type": "stream",
     "text": [
      "price               0.0\n",
      "area                0.0\n",
      "bedrooms            0.0\n",
      "bathrooms           0.0\n",
      "stories             0.0\n",
      "mainroad            0.0\n",
      "guestroom           0.0\n",
      "basement            0.0\n",
      "hotwaterheating     0.0\n",
      "airconditioning     0.0\n",
      "parking             0.0\n",
      "prefarea            0.0\n",
      "furnishingstatus    0.0\n",
      "dtype: float64\n"
     ]
    }
   ],
   "source": [
    "null_values=data.isnull()\n",
    "# percent of null values in house pricing dataset \n",
    "# avrage = sum / len(data)\n",
    "# percent = avrage * 100\n",
    "# in each colunm\n",
    "percent_null = data.isnull().sum() * 100 / len(data)\n",
    "print(percent_null)\n"
   ]
  },
  {
   "cell_type": "code",
   "execution_count": 63,
   "id": "8c94385b",
   "metadata": {},
   "outputs": [
    {
     "name": "stdout",
     "output_type": "stream",
     "text": [
      "0      0.0\n",
      "1      0.0\n",
      "2      0.0\n",
      "3      0.0\n",
      "4      0.0\n",
      "      ... \n",
      "540    0.0\n",
      "541    0.0\n",
      "542    0.0\n",
      "543    0.0\n",
      "544    0.0\n",
      "Length: 545, dtype: float64\n"
     ]
    }
   ],
   "source": [
    "# in each row \n",
    "percent_null = data.isnull().sum(axis=1) * 100 / len(data)\n",
    "print(percent_null)"
   ]
  },
  {
   "cell_type": "code",
   "execution_count": 64,
   "id": "c952b99f",
   "metadata": {},
   "outputs": [
    {
     "name": "stdout",
     "output_type": "stream",
     "text": [
      "0      13300000\n",
      "1      12250000\n",
      "2      12250000\n",
      "3      12215000\n",
      "4      11410000\n",
      "         ...   \n",
      "540     1820000\n",
      "541     1767150\n",
      "542     1750000\n",
      "543     1750000\n",
      "544     1750000\n",
      "Name: price, Length: 545, dtype: int64\n"
     ]
    }
   ],
   "source": [
    "y_train=data.pop('price')\n",
    "print(y_train)"
   ]
  },
  {
   "cell_type": "code",
   "execution_count": 65,
   "id": "f2f3987e",
   "metadata": {},
   "outputs": [
    {
     "name": "stdout",
     "output_type": "stream",
     "text": [
      "     area  bedrooms  bathrooms  stories mainroad guestroom basement  \\\n",
      "0    7420         4          2        3      yes        no       no   \n",
      "1    8960         4          4        4      yes        no       no   \n",
      "2    9960         3          2        2      yes        no      yes   \n",
      "3    7500         4          2        2      yes        no      yes   \n",
      "4    7420         4          1        2      yes       yes      yes   \n",
      "..    ...       ...        ...      ...      ...       ...      ...   \n",
      "540  3000         2          1        1      yes        no      yes   \n",
      "541  2400         3          1        1       no        no       no   \n",
      "542  3620         2          1        1      yes        no       no   \n",
      "543  2910         3          1        1       no        no       no   \n",
      "544  3850         3          1        2      yes        no       no   \n",
      "\n",
      "    hotwaterheating airconditioning  parking prefarea furnishingstatus  \n",
      "0                no             yes        2      yes        furnished  \n",
      "1                no             yes        3       no        furnished  \n",
      "2                no              no        2      yes   semi-furnished  \n",
      "3                no             yes        3      yes        furnished  \n",
      "4                no             yes        2       no        furnished  \n",
      "..              ...             ...      ...      ...              ...  \n",
      "540              no              no        2       no      unfurnished  \n",
      "541              no              no        0       no   semi-furnished  \n",
      "542              no              no        0       no      unfurnished  \n",
      "543              no              no        0       no        furnished  \n",
      "544              no              no        0       no      unfurnished  \n",
      "\n",
      "[545 rows x 12 columns]\n"
     ]
    }
   ],
   "source": [
    "X=data\n",
    "print(X)"
   ]
  },
  {
   "cell_type": "code",
   "execution_count": 66,
   "id": "f258ebda",
   "metadata": {},
   "outputs": [
    {
     "name": "stdout",
     "output_type": "stream",
     "text": [
      "[[7420 4 2 ... 2 'yes' 'furnished']\n",
      " [8960 4 4 ... 3 'no' 'furnished']\n",
      " [9960 3 2 ... 2 'yes' 'semi-furnished']\n",
      " ...\n",
      " [3620 2 1 ... 0 'no' 'unfurnished']\n",
      " [2910 3 1 ... 0 'no' 'furnished']\n",
      " [3850 3 1 ... 0 'no' 'unfurnished']]\n"
     ]
    }
   ],
   "source": [
    "x=np.array(data)\n",
    "print(x)"
   ]
  },
  {
   "cell_type": "code",
   "execution_count": 67,
   "id": "5d58b705",
   "metadata": {},
   "outputs": [
    {
     "name": "stdout",
     "output_type": "stream",
     "text": [
      "[[7420 4 2 3]\n",
      " [8960 4 4 4]\n",
      " [9960 3 2 2]\n",
      " ...\n",
      " [3620 2 1 1]\n",
      " [2910 3 1 1]\n",
      " [3850 3 1 2]]\n"
     ]
    }
   ],
   "source": [
    "x_train=x[:,0:4]\n",
    "print(x_train)"
   ]
  },
  {
   "cell_type": "code",
   "execution_count": 68,
   "id": "548bab80",
   "metadata": {},
   "outputs": [],
   "source": [
    "x_feature=['area','bedrooms','bathrooms','stories']"
   ]
  },
  {
   "cell_type": "markdown",
   "id": "132add3d",
   "metadata": {},
   "source": [
    "### plot x_train with y_train \n",
    "- each feature with y_train"
   ]
  },
  {
   "cell_type": "code",
   "execution_count": 69,
   "id": "dc2d9f6f",
   "metadata": {},
   "outputs": [
    {
     "data": {
      "image/png": "[encoded data removed]",
      "text/plain": [
       "<Figure size 1200x400 with 4 Axes>"
      ]
     },
     "metadata": {},
     "output_type": "display_data"
    }
   ],
   "source": [
    "fig,ax=plt.subplots(1,4,figsize=(12,4),sharey=True)\n",
    "\n",
    "for i in range(len(ax)):\n",
    "    ax[i].scatter(x_train[:,i],y_train)\n",
    "    ax[i].set_xlabel(x_feature[i])\n",
    "    \n",
    "ax[0].set_ylabel(\"price in (1000)s\")\n",
    "plt.show()"
   ]
  },
  {
   "cell_type": "code",
   "execution_count": 70,
   "id": "9bce40ca",
   "metadata": {},
   "outputs": [
    {
     "name": "stdout",
     "output_type": "stream",
     "text": [
      "0      13300000\n",
      "1      12250000\n",
      "2      12250000\n",
      "3      12215000\n",
      "4      11410000\n",
      "         ...   \n",
      "540     1820000\n",
      "541     1767150\n",
      "542     1750000\n",
      "543     1750000\n",
      "544     1750000\n",
      "Name: price, Length: 545, dtype: int64\n"
     ]
    }
   ],
   "source": [
    "print(y_train)"
   ]
  },
  {
   "cell_type": "markdown",
   "id": "16cb7830",
   "metadata": {},
   "source": [
    "### Feature scaling \n",
    "- zero_normalize_feature"
   ]
  },
  {
   "cell_type": "code",
   "execution_count": 76,
   "id": "0f12b456",
   "metadata": {},
   "outputs": [],
   "source": [
    "def zero_normalize_feature(x):\n",
    "    # find the mean for each column\n",
    "    mu=np.mean(x,axis=0)\n",
    "    # find the standared deviation for each column\n",
    "    sigma=np.std(x,axis=0,dtype=float)  # axis= 0 --> calcualte mean for each column\n",
    "    \n",
    "    # normalization form (rescaling)\n",
    "    x_norm = (x - mu)/sigma\n",
    "    \n",
    "    return (x_norm,mu,sigma) "
   ]
  },
  {
   "cell_type": "code",
   "execution_count": 78,
   "id": "b9a1cafa",
   "metadata": {},
   "outputs": [
    {
     "name": "stdout",
     "output_type": "stream",
     "text": [
      "[[1.0467262882352133 1.4034193573588296 1.4218117367065486\n",
      "  1.3782169202337835]\n",
      " [1.7570095257333957 1.4034193573588296 5.405808633904846\n",
      "  2.53202371213457]\n",
      " [2.218232407225722 0.04727831168407383 1.4218117367065486\n",
      "  0.22441012833299692]\n",
      " ...\n",
      " [-0.7059206614356268 -1.3088627339906818 -0.5701867118926005\n",
      "  -0.9293966635677897]\n",
      " [-1.0333889072951785 0.04727831168407383 -0.5701867118926005\n",
      "  -0.9293966635677897]\n",
      " [-0.5998393986923918 0.04727831168407383 -0.5701867118926005\n",
      "  0.22441012833299692]]\n"
     ]
    }
   ],
   "source": [
    "x_norm,mu,sigma = zero_normalize_feature(x_train)\n",
    "print(x_norm)\n",
    "# mu=np.mean(x_train,axis=0)\n",
    "# sigma=np.std(x_train,axis=0,dtype=float)\n",
    "# print(mu)\n",
    "# print(sigma)"
   ]
  },
  {
   "cell_type": "code",
   "execution_count": null,
   "id": "ed8f27b8",
   "metadata": {},
   "outputs": [],
   "source": []
  }
 ],
 "metadata": {
  "kernelspec": {
   "display_name": "Python 3 (ipykernel)",
   "language": "python",
   "name": "python3"
  },
  "language_info": {
   "codemirror_mode": {
    "name": "ipython",
    "version": 3
   },
   "file_extension": ".py",
   "mimetype": "text/x-python",
   "name": "python",
   "nbconvert_exporter": "python",
   "pygments_lexer": "ipython3",
   "version": "3.9.13"
  }
 },
 "nbformat": 4,
 "nbformat_minor": 5
}
